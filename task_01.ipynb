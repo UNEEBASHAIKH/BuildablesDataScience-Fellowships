{
 "cells": [
  {
   "cell_type": "code",
   "execution_count": 12,
   "id": "c0f7b488-1fd0-4cef-8a1c-7a08b8a34cd6",
   "metadata": {},
   "outputs": [
    {
     "name": "stdin",
     "output_type": "stream",
     "text": [
      "enter 1st number 4\n",
      "enter 2nd number 6\n"
     ]
    },
    {
     "name": "stdout",
     "output_type": "stream",
     "text": [
      "the sum of two number is  10\n"
     ]
    }
   ],
   "source": [
    "##exercise :Sum of two numbers \n",
    "num_1=int(input(\"enter 1st number\"))\n",
    "num_2=int(input(\"enter 2nd number\"))\n",
    "opr=num_1 + num_2\n",
    "print(\"the sum of two number is \", opr)"
   ]
  },
  {
   "cell_type": "code",
   "execution_count": 16,
   "id": "857031f2-2644-48a7-824e-1a02554c5e4d",
   "metadata": {},
   "outputs": [
    {
     "name": "stdin",
     "output_type": "stream",
     "text": [
      "enter the radius of the circle: 34\n"
     ]
    },
    {
     "name": "stdout",
     "output_type": "stream",
     "text": [
      "The Area of the circle is  3631.681107549801\n"
     ]
    }
   ],
   "source": [
    "##exercise :find the radius of a circle\n",
    "import math\n",
    "radius=float(input(\"enter the radius of the circle:\"))\n",
    "area= math.pi *(radius ** 2)\n",
    "print(f\"The Area of the circle is \",area )"
   ]
  },
  {
   "cell_type": "code",
   "execution_count": 6,
   "id": "7aca90bc-1f47-46bb-9f83-28810fef8c26",
   "metadata": {},
   "outputs": [
    {
     "name": "stdout",
     "output_type": "stream",
     "text": [
      "\" Based on these operation ,a calculator perform these calculations:\n",
      "\"( for Addition,,put a)\"\n",
      "\"( for subtraction,put b)\"\n",
      "\"(for multiply,put c)\"\n",
      "\"(for divide,put d)\"  \n",
      "\"(for exponents,put e)\n"
     ]
    },
    {
     "name": "stdin",
     "output_type": "stream",
     "text": [
      "please select any operation to perform your calculation d\n",
      "Enter first number: 2\n",
      "Enter second number: 34\n"
     ]
    },
    {
     "name": "stdout",
     "output_type": "stream",
     "text": [
      "0.058823529411764705\n"
     ]
    }
   ],
   "source": [
    "#create a simplecalculator using python program\n",
    "#here we follow three steps to make a program\n",
    "#1. using functions\n",
    "#2. take input from the user \n",
    "#3. using conditions to verify the results\n",
    "\n",
    "\n",
    "#create functions based on operations:\n",
    "def add(num1,num2):\n",
    "  return num1+num2\n",
    "def sub(num1,num2):\n",
    "  return num1-num2\n",
    "def multiply(num1,num2):\n",
    "  return num1*num2 \n",
    "def divide(num1,num2):\n",
    "  return num1/num2\n",
    "def exponent(num1,num2):\n",
    "  return num1**num2\n",
    "\n",
    "  #take user input \n",
    "print(\"\"\"\" Based on these operation ,a calculator perform these calculations:\n",
    "\"( for Addition,,put a)\"\n",
    "\"( for subtraction,put b)\"\n",
    "\"(for multiply,put c)\"\n",
    "\"(for divide,put d)\"  \n",
    "\"(for exponents,put e)\"\"\")\n",
    "opr=(input(\"please select any operation to perform your calculation\")) \n",
    "user1=int(input(\"Enter first number:\"))\n",
    "user2=int(input(\"Enter second number:\"))  \n",
    "\n",
    "#now apply the conditions using \n",
    "if opr== \"a\":\n",
    "  print(add(user1,user2))\n",
    "if opr== \"b\":\n",
    "  print (sub(user1,user2))\n",
    "elif opr==\"c\":\n",
    "  print(multiply(user1,user2))\n",
    "elif opr==\"d\":\n",
    "  print(divide(user1,user2))\n",
    "elif opr==\"e\":\n",
    "  print(exponent(user1,user2))\n",
    "else:\n",
    "    print('you have entered invalid operation')"
   ]
  },
  {
   "cell_type": "code",
   "execution_count": 24,
   "id": "c58c0c2f-88f4-4353-bdb3-169ebcb03b9e",
   "metadata": {},
   "outputs": [
    {
     "name": "stdin",
     "output_type": "stream",
     "text": [
      "Enter a number:  67\n"
     ]
    },
    {
     "name": "stdout",
     "output_type": "stream",
     "text": [
      "67 is odd.\n"
     ]
    }
   ],
   "source": [
    "##exercise : check whether the number is even or odd \n",
    "num = int(input(\"Enter a number: \")) \n",
    "if num % 2 == 0: \n",
    " print(f\"{num} is even.\") \n",
    "else:\n",
    "  print(f\"{num} is odd.\")"
   ]
  },
  {
   "cell_type": "code",
   "execution_count": 32,
   "id": "b4c671a1-4089-4f0f-8886-98455a6d1e47",
   "metadata": {},
   "outputs": [
    {
     "name": "stdin",
     "output_type": "stream",
     "text": [
      "enter first number 34\n",
      "enter second number 56\n",
      "enter third number 90\n"
     ]
    },
    {
     "name": "stdout",
     "output_type": "stream",
     "text": [
      "the largest value is : 90\n"
     ]
    }
   ],
   "source": [
    "##exercise : Find the largest number \n",
    "first = int(input(\"enter first number\"))\n",
    "second= int(input(\"enter second number\"))\n",
    "third = int(input(\"enter third number\"))\n",
    "largest=max(first,second,third)\n",
    "print(f\"The largest value is :\",largest)\n",
    "\n",
    "          "
   ]
  },
  {
   "cell_type": "code",
   "execution_count": 34,
   "id": "9369f772-bdc2-47ef-a261-2bd9cec85a87",
   "metadata": {},
   "outputs": [
    {
     "name": "stdin",
     "output_type": "stream",
     "text": [
      "Enter string: hello world\n"
     ]
    },
    {
     "name": "stdout",
     "output_type": "stream",
     "text": [
      "Number of vowels are:\n",
      "3\n"
     ]
    }
   ],
   "source": [
    "#exercise: \"this program counts the vowels in a given string \"\n",
    "string=str(input(\"Enter string:\"))\n",
    "vowels=0\n",
    "for i in string:\n",
    "      if(i=='a' or i=='e' or i=='i' or i=='o' or i=='u' or i=='A' or i=='E' or i=='I' or i=='O' or i=='U'):\n",
    "            vowels=vowels+1\n",
    "print(\"Number of vowels are:\")\n",
    "print(vowels)"
   ]
  },
  {
   "cell_type": "code",
   "execution_count": null,
   "id": "7b5df6a5-d43d-45d7-8782-e064eeed804d",
   "metadata": {},
   "outputs": [
    {
     "name": "stdout",
     "output_type": "stream",
     "text": [
      "0 1 1 2 3 5 8 13 21 34 55 89 144 233 377 610 987 1597 2584 4181 6765 10946 17711 28657 46368 75025 121393 196418 317811 514229 832040 1346269 2178309 3524578 5702887 9227465 14930352 24157817 39088169 63245986 102334155 165580141 267914296 433494437 701408733 1134903170 "
     ]
    }
   ],
   "source": [
    "##exercise : find the fibonacci sequence upto nth terms \n",
    "def fibonacci(n):\n",
    "    if n <= 1:\n",
    "        return n\n",
    "    return fibonacci(n - 1) + fibonacci(n - 2)\n",
    "\n",
    "# Example usage\n",
    "for i in range(100):\n",
    "    print(fibonacci(i), end=\" \")"
   ]
  },
  {
   "cell_type": "code",
   "execution_count": null,
   "id": "850ad3e8-de0c-45e2-ba61-192e3fe469b4",
   "metadata": {},
   "outputs": [],
   "source": [
    "#exercise : Program to check if a string is a palindrome or not.\n",
    "teststring = input(\"Enter string:\")\n",
    "reversedstring = teststring[::-1]\n",
    "if teststring == reversedstring:\n",
    "      print(f\"{teststring} : The string is a palindrome\")\n",
    "else:\n",
    "      print(f\"{teststring}: The string isn't a palindrome\")"
   ]
  },
  {
   "cell_type": "code",
   "execution_count": null,
   "id": "4d5e3931-e288-4cdd-8f33-479349471e3e",
   "metadata": {},
   "outputs": [],
   "source": []
  }
 ],
 "metadata": {
  "kernelspec": {
   "display_name": "Python 3 (ipykernel)",
   "language": "python",
   "name": "python3"
  },
  "language_info": {
   "codemirror_mode": {
    "name": "ipython",
    "version": 3
   },
   "file_extension": ".py",
   "mimetype": "text/x-python",
   "name": "python",
   "nbconvert_exporter": "python",
   "pygments_lexer": "ipython3",
   "version": "3.12.7"
  }
 },
 "nbformat": 4,
 "nbformat_minor": 5
}
